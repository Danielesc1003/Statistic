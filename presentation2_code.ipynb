{
 "cells": [
  {
   "attachments": {},
   "cell_type": "markdown",
   "metadata": {},
   "source": [
    "## Test $t$ de student para datos pareados\n",
    "\n",
    "Edward García Hernández & Daniel Esteban Salazar Camacho - Estadística-2023_1"
   ]
  },
  {
   "cell_type": "code",
   "execution_count": 1,
   "metadata": {},
   "outputs": [],
   "source": [
    "import numpy as np\n",
    "import matplotlib.pyplot as plt\n",
    "import pandas as pd\n",
    "import seaborn as sns"
   ]
  },
  {
   "cell_type": "code",
   "execution_count": 2,
   "metadata": {},
   "outputs": [
    {
     "data": {
      "text/html": [
       "<div>\n",
       "<style scoped>\n",
       "    .dataframe tbody tr th:only-of-type {\n",
       "        vertical-align: middle;\n",
       "    }\n",
       "\n",
       "    .dataframe tbody tr th {\n",
       "        vertical-align: top;\n",
       "    }\n",
       "\n",
       "    .dataframe thead th {\n",
       "        text-align: right;\n",
       "    }\n",
       "</style>\n",
       "<table border=\"1\" class=\"dataframe\">\n",
       "  <thead>\n",
       "    <tr style=\"text-align: right;\">\n",
       "      <th></th>\n",
       "      <th>niv_adg_ai</th>\n",
       "      <th>niv_adg_di</th>\n",
       "      <th>diferencia</th>\n",
       "    </tr>\n",
       "  </thead>\n",
       "  <tbody>\n",
       "    <tr>\n",
       "      <th>0</th>\n",
       "      <td>2.76</td>\n",
       "      <td>7.02</td>\n",
       "      <td>4.26</td>\n",
       "    </tr>\n",
       "    <tr>\n",
       "      <th>1</th>\n",
       "      <td>5.18</td>\n",
       "      <td>3.10</td>\n",
       "      <td>-2.08</td>\n",
       "    </tr>\n",
       "    <tr>\n",
       "      <th>2</th>\n",
       "      <td>2.68</td>\n",
       "      <td>5.44</td>\n",
       "      <td>2.76</td>\n",
       "    </tr>\n",
       "    <tr>\n",
       "      <th>3</th>\n",
       "      <td>3.05</td>\n",
       "      <td>3.99</td>\n",
       "      <td>0.94</td>\n",
       "    </tr>\n",
       "    <tr>\n",
       "      <th>4</th>\n",
       "      <td>4.10</td>\n",
       "      <td>5.21</td>\n",
       "      <td>1.11</td>\n",
       "    </tr>\n",
       "    <tr>\n",
       "      <th>5</th>\n",
       "      <td>7.05</td>\n",
       "      <td>10.26</td>\n",
       "      <td>3.21</td>\n",
       "    </tr>\n",
       "    <tr>\n",
       "      <th>6</th>\n",
       "      <td>6.60</td>\n",
       "      <td>13.91</td>\n",
       "      <td>7.31</td>\n",
       "    </tr>\n",
       "    <tr>\n",
       "      <th>7</th>\n",
       "      <td>4.79</td>\n",
       "      <td>18.53</td>\n",
       "      <td>13.74</td>\n",
       "    </tr>\n",
       "    <tr>\n",
       "      <th>8</th>\n",
       "      <td>7.39</td>\n",
       "      <td>7.91</td>\n",
       "      <td>0.52</td>\n",
       "    </tr>\n",
       "    <tr>\n",
       "      <th>9</th>\n",
       "      <td>7.30</td>\n",
       "      <td>4.85</td>\n",
       "      <td>-2.45</td>\n",
       "    </tr>\n",
       "    <tr>\n",
       "      <th>10</th>\n",
       "      <td>11.78</td>\n",
       "      <td>11.10</td>\n",
       "      <td>-0.68</td>\n",
       "    </tr>\n",
       "    <tr>\n",
       "      <th>11</th>\n",
       "      <td>3.90</td>\n",
       "      <td>3.74</td>\n",
       "      <td>-0.16</td>\n",
       "    </tr>\n",
       "    <tr>\n",
       "      <th>12</th>\n",
       "      <td>26.00</td>\n",
       "      <td>94.03</td>\n",
       "      <td>68.03</td>\n",
       "    </tr>\n",
       "    <tr>\n",
       "      <th>13</th>\n",
       "      <td>67.48</td>\n",
       "      <td>94.03</td>\n",
       "      <td>26.55</td>\n",
       "    </tr>\n",
       "    <tr>\n",
       "      <th>14</th>\n",
       "      <td>17.04</td>\n",
       "      <td>41.70</td>\n",
       "      <td>24.66</td>\n",
       "    </tr>\n",
       "  </tbody>\n",
       "</table>\n",
       "</div>"
      ],
      "text/plain": [
       "    niv_adg_ai  niv_adg_di  diferencia\n",
       "0         2.76        7.02        4.26\n",
       "1         5.18        3.10       -2.08\n",
       "2         2.68        5.44        2.76\n",
       "3         3.05        3.99        0.94\n",
       "4         4.10        5.21        1.11\n",
       "5         7.05       10.26        3.21\n",
       "6         6.60       13.91        7.31\n",
       "7         4.79       18.53       13.74\n",
       "8         7.39        7.91        0.52\n",
       "9         7.30        4.85       -2.45\n",
       "10       11.78       11.10       -0.68\n",
       "11        3.90        3.74       -0.16\n",
       "12       26.00       94.03       68.03\n",
       "13       67.48       94.03       26.55\n",
       "14       17.04       41.70       24.66"
      ]
     },
     "execution_count": 2,
     "metadata": {},
     "output_type": "execute_result"
    }
   ],
   "source": [
    "# Creación del DataFrame\n",
    "data = {'niv_adg_ai': [2.76, 5.18, 2.68, 3.05, 4.10, 7.05, 6.60, 4.79, 7.39, 7.30, 11.78, 3.90, 26.00, 67.48, 17.04],\n",
    "        'niv_adg_di': [7.02, 3.10, 5.44, 3.99, 5.21, 10.26, 13.91, 18.53, 7.91, 4.85, 11.10, 3.74, 94.03, 94.03, 41.70]}\n",
    "\n",
    "df = pd.DataFrame(data)\n",
    "df['diferencia'] = df['niv_adg_di'] - df['niv_adg_ai']\n",
    "df"
   ]
  },
  {
   "cell_type": "code",
   "execution_count": 3,
   "metadata": {},
   "outputs": [
    {
     "data": {
      "text/html": [
       "<div>\n",
       "<style scoped>\n",
       "    .dataframe tbody tr th:only-of-type {\n",
       "        vertical-align: middle;\n",
       "    }\n",
       "\n",
       "    .dataframe tbody tr th {\n",
       "        vertical-align: top;\n",
       "    }\n",
       "\n",
       "    .dataframe thead th {\n",
       "        text-align: right;\n",
       "    }\n",
       "</style>\n",
       "<table border=\"1\" class=\"dataframe\">\n",
       "  <thead>\n",
       "    <tr style=\"text-align: right;\">\n",
       "      <th></th>\n",
       "      <th>niv_adg_ai</th>\n",
       "      <th>niv_adg_di</th>\n",
       "      <th>diferencia</th>\n",
       "    </tr>\n",
       "  </thead>\n",
       "  <tbody>\n",
       "    <tr>\n",
       "      <th>count</th>\n",
       "      <td>15.000000</td>\n",
       "      <td>15.000000</td>\n",
       "      <td>15.000000</td>\n",
       "    </tr>\n",
       "    <tr>\n",
       "      <th>mean</th>\n",
       "      <td>11.806667</td>\n",
       "      <td>21.654667</td>\n",
       "      <td>9.848000</td>\n",
       "    </tr>\n",
       "    <tr>\n",
       "      <th>std</th>\n",
       "      <td>16.636413</td>\n",
       "      <td>30.920700</td>\n",
       "      <td>18.473627</td>\n",
       "    </tr>\n",
       "    <tr>\n",
       "      <th>min</th>\n",
       "      <td>2.680000</td>\n",
       "      <td>3.100000</td>\n",
       "      <td>-2.450000</td>\n",
       "    </tr>\n",
       "    <tr>\n",
       "      <th>25%</th>\n",
       "      <td>4.000000</td>\n",
       "      <td>5.030000</td>\n",
       "      <td>0.180000</td>\n",
       "    </tr>\n",
       "    <tr>\n",
       "      <th>50%</th>\n",
       "      <td>6.600000</td>\n",
       "      <td>7.910000</td>\n",
       "      <td>2.760000</td>\n",
       "    </tr>\n",
       "    <tr>\n",
       "      <th>75%</th>\n",
       "      <td>9.585000</td>\n",
       "      <td>16.220000</td>\n",
       "      <td>10.525000</td>\n",
       "    </tr>\n",
       "    <tr>\n",
       "      <th>max</th>\n",
       "      <td>67.480000</td>\n",
       "      <td>94.030000</td>\n",
       "      <td>68.030000</td>\n",
       "    </tr>\n",
       "  </tbody>\n",
       "</table>\n",
       "</div>"
      ],
      "text/plain": [
       "       niv_adg_ai  niv_adg_di  diferencia\n",
       "count   15.000000   15.000000   15.000000\n",
       "mean    11.806667   21.654667    9.848000\n",
       "std     16.636413   30.920700   18.473627\n",
       "min      2.680000    3.100000   -2.450000\n",
       "25%      4.000000    5.030000    0.180000\n",
       "50%      6.600000    7.910000    2.760000\n",
       "75%      9.585000   16.220000   10.525000\n",
       "max     67.480000   94.030000   68.030000"
      ]
     },
     "execution_count": 3,
     "metadata": {},
     "output_type": "execute_result"
    }
   ],
   "source": [
    "df.describe()"
   ]
  },
  {
   "cell_type": "code",
   "execution_count": 4,
   "metadata": {},
   "outputs": [
    {
     "data": {
      "text/plain": [
       "<AxesSubplot:xlabel='diferencia', ylabel='Count'>"
      ]
     },
     "execution_count": 4,
     "metadata": {},
     "output_type": "execute_result"
    },
    {
     "data": {
      "image/png": "[encoded data removed]",
      "text/plain": [
       "<Figure size 720x288 with 3 Axes>"
      ]
     },
     "metadata": {
      "needs_background": "light"
     },
     "output_type": "display_data"
    }
   ],
   "source": [
    "fig, ax = plt.subplots(1, 3, sharey = True, figsize = (10, 4))\n",
    "\n",
    "sns.histplot(df, x = 'niv_adg_ai', kde = True, ax = ax[0])\n",
    "sns.histplot(df, x = 'niv_adg_di', kde = True, ax = ax[1], color = 'red')\n",
    "sns.histplot(df, x = 'diferencia', kde = True, ax = ax[2], color = 'green')"
   ]
  },
  {
   "attachments": {},
   "cell_type": "markdown",
   "metadata": {},
   "source": [
    "La que hay que probar en este caso es si la inyección tiene algún efecto sobre los niveles de andrógenos en la sangre de los venados. Para ello se considera el siguiente test de hipótesis:\n",
    "\n",
    "$H_0: \\overline{d} = 0$, con $-t_{0.025} < t < t_{0.025}$,\n",
    "\n",
    "$H_1: \\overline{d} \\neq 0$, con $t < -t_{0.025}$ o $t > t_{0.025}$.\n",
    "\n",
    "Como la hipótesis alternativa es a dos lados, el test debe hacerse a dos colas. Además, como el tamaño de la muestra es menor a 30, se deben realizar inferencias basadas en los valores críticos para la distribución $t$ de Student.\n",
    "\n",
    "(**Nota:** Los grados de libertad para el test son $v = 15 - 1 = 14$.)\n",
    "\n",
    "Para realizar el test con las herramientas que Python, se utiliza el módulo ```stats``` de la librería ```scipy```. En este se encuentran dos test predefinidos:\n",
    "\n",
    "1. Test $t$ de Student para datos relacionados dado por la función ```ttest_rel()```. Este toma dos poblaciones dependientes (una muestra por población) y determina si su media es igual o no. En este caso se toman las columnas ```niv_adg_ai```, los niveles de andrógenos antes de la inyección, y ```niv_adg_di```, los niveles de andrógenos después de la inyección.\n",
    "\n",
    "2. Test $t$ de Student para una sóla muestra dado por la función ```ttest_1samp()```. Este toma una muestra de una población y determina si su media es igual o no a un valor determinado $\\mu_0$. Para el caso de las muestras de sangre de los venados, el test se realiza sobre la columna ```diferencia```."
   ]
  },
  {
   "cell_type": "code",
   "execution_count": 5,
   "metadata": {},
   "outputs": [
    {
     "data": {
      "text/plain": [
       "Text(0.5, 1.0, 'Distribución $t$ de Student con $v=14$')"
      ]
     },
     "execution_count": 5,
     "metadata": {},
     "output_type": "execute_result"
    },
    {
     "data": {
      "image/png": "[encoded data removed]",
      "text/plain": [
       "<Figure size 432x288 with 1 Axes>"
      ]
     },
     "metadata": {
      "needs_background": "light"
     },
     "output_type": "display_data"
    }
   ],
   "source": [
    "from scipy.stats import t\n",
    "\n",
    "grados_de_libertad = 14\n",
    "variable_aleatoria = t(grados_de_libertad)\n",
    "\n",
    "x = np.linspace(t.ppf(0.0001, grados_de_libertad), t.ppf(0.9999, grados_de_libertad), 100)\n",
    "\n",
    "plt.plot(x, variable_aleatoria.pdf(x), color = 'green')\n",
    "plt.title(r'Distribución $t$ de Student con $v=14$')"
   ]
  },
  {
   "cell_type": "code",
   "execution_count": 6,
   "metadata": {},
   "outputs": [
    {
     "name": "stdout",
     "output_type": "stream",
     "text": [
      "Los valores críticos son -2.14479 a izquierda y 2.14479 a derecha.\n"
     ]
    }
   ],
   "source": [
    "alpha = 0.05\n",
    "alpha_dos_colas = alpha/2\n",
    "v_crit_1 = t.ppf(alpha_dos_colas, grados_de_libertad)\n",
    "v_crit_2 = -v_crit_1\n",
    "print(f'Los valores críticos son {v_crit_1:.5f} a izquierda y {v_crit_2:.5f} a derecha.')"
   ]
  },
  {
   "cell_type": "code",
   "execution_count": 7,
   "metadata": {},
   "outputs": [
    {
     "data": {
      "text/plain": [
       "Text(0.5, 1.0, 'Distribución $t$ de Student con $v=14$')"
      ]
     },
     "execution_count": 7,
     "metadata": {},
     "output_type": "execute_result"
    },
    {
     "data": {
      "image/png": "[encoded data removed]",
      "text/plain": [
       "<Figure size 432x288 with 1 Axes>"
      ]
     },
     "metadata": {
      "needs_background": "light"
     },
     "output_type": "display_data"
    }
   ],
   "source": [
    "plt.plot(x, variable_aleatoria.pdf(x), color = 'green')\n",
    "plt.fill_between(x = x, y1 = variable_aleatoria.pdf(x), where = (x < v_crit_1), color = 'green', alpha = 0.5)\n",
    "plt.fill_between(x = x, y1 = variable_aleatoria.pdf(x), where = (x > v_crit_2), color = 'green', alpha = 0.5)\n",
    "plt.title(r'Distribución $t$ de Student con $v=14$')"
   ]
  },
  {
   "cell_type": "code",
   "execution_count": 8,
   "metadata": {},
   "outputs": [],
   "source": [
    "from scipy.stats import ttest_rel\n",
    "\n",
    "muestra_ai = df['niv_adg_ai']\n",
    "muestra_di = df['niv_adg_di']\n",
    "\n",
    "t_stat, p_value = ttest_rel(muestra_ai, muestra_di)"
   ]
  },
  {
   "cell_type": "code",
   "execution_count": 9,
   "metadata": {},
   "outputs": [],
   "source": [
    "from scipy.stats import ttest_1samp\n",
    "\n",
    "t_stat, p_value = ttest_1samp(df['diferencia'], 0)"
   ]
  },
  {
   "cell_type": "code",
   "execution_count": 10,
   "metadata": {},
   "outputs": [
    {
     "name": "stdout",
     "output_type": "stream",
     "text": [
      "No se puede rechazar la hipótesis nula.\n",
      "No se puede concluir que la inyección afecta los niveles de andrógenos en la sangre.\n"
     ]
    }
   ],
   "source": [
    "if v_crit_1 < t_stat < v_crit_2:\n",
    "    print('No se puede rechazar la hipótesis nula.\\nNo se puede concluir que la inyección afecta los niveles de andrógenos en la sangre.')\n",
    "else:\n",
    "    print('Se rechaza la hipótesis nula.\\nLos niveles de andrógenos se ven afectados por la inyección.')"
   ]
  },
  {
   "cell_type": "code",
   "execution_count": 11,
   "metadata": {},
   "outputs": [
    {
     "data": {
      "text/plain": [
       "Text(0.5, 1.0, 'Región crítica y valor $t$')"
      ]
     },
     "execution_count": 11,
     "metadata": {},
     "output_type": "execute_result"
    },
    {
     "data": {
      "image/png": "[encoded data removed]",
      "text/plain": [
       "<Figure size 576x576 with 2 Axes>"
      ]
     },
     "metadata": {
      "needs_background": "light"
     },
     "output_type": "display_data"
    }
   ],
   "source": [
    "new_x = np.linspace(2, 5, 100)\n",
    "fig, ax1 = plt.subplots(figsize = (8, 8))\n",
    "\n",
    "ax1.plot(x, variable_aleatoria.pdf(x), color = 'green', label = 'Curva t')\n",
    "ax1.scatter(t_stat, variable_aleatoria.pdf(t_stat), color = 'red', label = r'$t = 2.06463$')\n",
    "ax1.legend()\n",
    "ax1.set_xlabel(r'Estadístico $t$')\n",
    "ax1.set_ylabel('Densidad')\n",
    "ax1.fill_between(x = x, y1 = variable_aleatoria.pdf(x), where = (x < v_crit_1), color = 'green', alpha = 0.5)\n",
    "ax1.fill_between(x = x, y1 = variable_aleatoria.pdf(x), where = (x > v_crit_2), color = 'green', alpha = 0.5)\n",
    "ax1.set_title(r'Distribución $t$ de Student con $v=14$')\n",
    "\n",
    "left, bottom, width, height = [0.66, 0.55, 0.20, 0.20]\n",
    "ax2 = fig.add_axes([left, bottom, width, height])\n",
    "ax2.plot(new_x, variable_aleatoria.pdf(new_x), color = 'green')\n",
    "ax2.scatter(t_stat, variable_aleatoria.pdf(t_stat), color = 'red')\n",
    "ax2.set_xlabel(r'Estadístico $t$')\n",
    "ax2.set_ylabel('Densidad')\n",
    "ax2.fill_between(x = x, y1 = variable_aleatoria.pdf(x), where = (x > v_crit_2), color = 'green', alpha = 0.5)\n",
    "ax2.set_title(r'Región crítica y valor $t$')\n",
    "#fig, ax1 = plt.subplots()"
   ]
  },
  {
   "cell_type": "code",
   "execution_count": 12,
   "metadata": {},
   "outputs": [
    {
     "data": {
      "text/plain": [
       "0.029247104563128734"
      ]
     },
     "execution_count": 12,
     "metadata": {},
     "output_type": "execute_result"
    }
   ],
   "source": [
    "1 - t.cdf(2.06, 14)"
   ]
  },
  {
   "attachments": {},
   "cell_type": "markdown",
   "metadata": {},
   "source": [
    "Esto último muestra que si $\\alpha = 0.06$, sí se tendría algo de significancia y en consecuencia se puede decir que la inyección afecta los niveles de andrógenos."
   ]
  }
 ],
 "metadata": {
  "kernelspec": {
   "display_name": "Python 3",
   "language": "python",
   "name": "python3"
  },
  "language_info": {
   "codemirror_mode": {
    "name": "ipython",
    "version": 3
   },
   "file_extension": ".py",
   "mimetype": "text/x-python",
   "name": "python",
   "nbconvert_exporter": "python",
   "pygments_lexer": "ipython3",
   "version": "3.10.6"
  },
  "orig_nbformat": 4
 },
 "nbformat": 4,
 "nbformat_minor": 2
}
